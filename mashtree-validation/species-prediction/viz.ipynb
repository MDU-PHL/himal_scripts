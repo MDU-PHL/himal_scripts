{
 "cells": [
  {
   "cell_type": "markdown",
   "metadata": {},
   "source": [
    "# Bacillus anthracis vs Bacillus cereus"
   ]
  },
  {
   "cell_type": "code",
   "execution_count": null,
   "metadata": {},
   "outputs": [],
   "source": [
    "# Import modules\n",
    "import pandas as pd\n",
    "import plotly.express as px"
   ]
  },
  {
   "cell_type": "code",
   "execution_count": null,
   "metadata": {},
   "outputs": [],
   "source": [
    "## get current working directory\n",
    "import os\n",
    "\n",
    "current_directory = os.getcwd()\n",
    "print(current_directory)"
   ]
  },
  {
   "cell_type": "code",
   "execution_count": null,
   "metadata": {},
   "outputs": [],
   "source": [
    "# Read the tab separated file as a data frame\n",
    "df = pd.read_csv(\"matrix.tab\", sep=\"\\t\", index_col=0)\n",
    "\n",
    "df"
   ]
  },
  {
   "cell_type": "code",
   "execution_count": null,
   "metadata": {},
   "outputs": [],
   "source": [
    "# Create a heatmap using plotly express\n",
    "fig = px.imshow(df)\n",
    "fig.update_xaxes(side=\"top\")\n",
    "# Show the heatmap\n",
    "fig.show()"
   ]
  },
  {
   "cell_type": "markdown",
   "metadata": {},
   "source": [
    "## Visualise the tree file"
   ]
  },
  {
   "cell_type": "code",
   "execution_count": null,
   "metadata": {},
   "outputs": [],
   "source": [
    "# Import the Phylo module\n",
    "from Bio import Phylo\n",
    "from ete3 import Tree, TreeStyle"
   ]
  },
  {
   "cell_type": "code",
   "execution_count": null,
   "metadata": {},
   "outputs": [],
   "source": [
    "# Read the tree.dnd file as a Tree object\n",
    "tree = Phylo.read(\"tree.dnd\", \"newick\")\n",
    "\n",
    "# Print the tree\n",
    "# print(tree)\n",
    "\n",
    "# Draw the tree using ASCII characters\n",
    "Phylo.draw_ascii(tree)"
   ]
  },
  {
   "cell_type": "code",
   "execution_count": null,
   "metadata": {},
   "outputs": [],
   "source": [
    "t = Tree(\"tree.dnd\")"
   ]
  },
  {
   "cell_type": "code",
   "execution_count": null,
   "metadata": {},
   "outputs": [],
   "source": [
    "ts = TreeStyle()\n",
    "ts.show_leaf_name = True\n",
    "ts.show_branch_length = True\n",
    "ts.show_branch_support = True\n",
    "\n",
    "t.render(\"%%inline\", w=183, units=\"mm\", tree_style=ts)"
   ]
  },
  {
   "cell_type": "code",
   "execution_count": null,
   "metadata": {},
   "outputs": [],
   "source": [
    "newick_str = \"(((SRR498276:9.99999993922529E-9,gi:9.99999993922529E-9):0.02253374303029987,((SRR1258439:9.99999993922529E-9,SRR1258440:9.99999993922529E-9):0.0,(((SRR1258442:9.99999993922529E-9,SRR1258443:9.99999993922529E-9):0.0,(SRR498397:9.99999993922529E-9,SRR498399:9.99999993922529E-9):0.0):0.0,(((SRR498434:9.99999993922529E-9,SRR498436:9.99999993922529E-9):0.0,(SRR498442:9.99999993922529E-9,SRR498444:9.99999993922529E-9):0.0):0.0,(((SRR498402:0.007711887599999967,SRR498403:9.99999993922529E-9):0.0,(SRR498404:0.0062052120000000155,SRR498422:9.99999993922529E-9):0.0):0.0,((SRR498423:9.99999993922529E-9,SRR498425:0.00645248520000008):0.0,(SRR498431:9.99999993922529E-9,SRR498433:0.0051400228000000325):0.0):0.0):0.0):0.0):0.0):0.09995854330000009):0.341439353,((SRR498373:0.012872330300000012,SRR500494:0.007891319000000063):0.35368396720000006,(SRR498369:0.1378064873,SRR500493:0.0973099973):0.0):0.6828787059999999);\"\n",
    "\n",
    "t = Tree(newick_str)\n",
    "\n",
    "ts = TreeStyle()\n",
    "ts.show_leaf_name = True\n",
    "ts.show_branch_length = True\n",
    "ts.show_branch_support = True\n",
    "\n",
    "t.render(\"%%inline\", w=183, units=\"mm\", tree_style=ts)"
   ]
  }
 ],
 "metadata": {
  "kernelspec": {
   "display_name": "ml-bio",
   "language": "python",
   "name": "python3"
  },
  "language_info": {
   "codemirror_mode": {
    "name": "ipython",
    "version": 3
   },
   "file_extension": ".py",
   "mimetype": "text/x-python",
   "name": "python",
   "nbconvert_exporter": "python",
   "pygments_lexer": "ipython3",
   "version": "3.11.5"
  }
 },
 "nbformat": 4,
 "nbformat_minor": 2
}
