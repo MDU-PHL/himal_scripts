{
 "cells": [
  {
   "cell_type": "code",
   "execution_count": 1,
   "metadata": {},
   "outputs": [],
   "source": [
    "# !mdu contigs --idfile ids.txt -a shovill > contigs.tab\n",
    "# !mdu contigs --idfile ids.txt -a spades > contigs_spades.tab\n"
   ]
  },
  {
   "cell_type": "code",
   "execution_count": 2,
   "metadata": {},
   "outputs": [],
   "source": [
    "# ! cat contigs.tab"
   ]
  },
  {
   "cell_type": "code",
   "execution_count": 3,
   "metadata": {},
   "outputs": [],
   "source": [
    "# ! cat contigs_spades.tab"
   ]
  },
  {
   "cell_type": "code",
   "execution_count": 4,
   "metadata": {},
   "outputs": [],
   "source": [
    "# !head -n 1 <path_to_amrfinder.out> > <amr_gene>_abritamr.tab\n",
    "# !cat <path_to_amrfinder.out> | grep -i <amr_gene> >> amr_gene_abritamr.tab\n",
    "#seqkit grep -r -p \"contig00021\" <path_to_contigs.fa> > <output_file>.fa\n",
    "#mob_typer --infile <output_file>.fa --out_file <output_file>_mobtyper.txt"
   ]
  },
  {
   "cell_type": "code",
   "execution_count": null,
   "metadata": {},
   "outputs": [
    {
     "name": "stdout",
     "output_type": "stream",
     "text": [
      "Files created successfully:\n",
      "1. NDM-1_abritamr_contig_info.tab\n",
      "2. seqkit_grep.sh\n",
      "3. mob_typer.sh\n"
     ]
    }
   ],
   "source": [
    "# code to prepare the input files for the nextflow pipeline\n",
    "import pandas as pd\n",
    "\n",
    "# Read the NDM-1_abritamr.tab file\n",
    "abritamr_df = pd.read_csv('NDM-1_abritamr.tab', sep='\\t')\n",
    "\n",
    "# Extract Contig id column (second column) and rename it\n",
    "contig_info_df = pd.DataFrame()\n",
    "contig_info_df['contig_id'] = abritamr_df.iloc[:, 1]\n",
    "\n",
    "# Read the contigs.tab file (no header)\n",
    "contigs_df = pd.read_csv('contigs.tab', sep='\\t', header=None)\n",
    "\n",
    "# Since the first row in contigs.tab corresponds to the first row in abritamr.tab,\n",
    "# we can directly map them by row index\n",
    "sample_ids = []\n",
    "contig_paths = []\n",
    "\n",
    "for i in range(len(contig_info_df)):\n",
    "    if i < len(contigs_df):\n",
    "        sample_ids.append(contigs_df.iloc[i, 0])  # First column of contigs.tab\n",
    "        contig_paths.append(contigs_df.iloc[i, 1])  # Second column of contigs.tab\n",
    "    else:\n",
    "        # Handle case where abritamr.tab has more rows than contigs.tab\n",
    "        sample_ids.append(None)\n",
    "        contig_paths.append(None)\n",
    "\n",
    "# Add sample_id and contigs_path columns\n",
    "contig_info_df['sample_id'] = sample_ids\n",
    "contig_info_df['contigs_path'] = contig_paths\n",
    "\n",
    "# Write to a new file\n",
    "contig_info_df.to_csv('NDM-1_abritamr_contig_info.tab', sep='\\t', index=False)\n",
    "\n",
    "# Create seqkit_grep.sh file\n",
    "with open('seqkit_grep.sh', 'w') as f:\n",
    "    f.write('#!/bin/bash\\n\\n')\n",
    "    for _, row in contig_info_df.dropna().iterrows():\n",
    "        contig_id = row['contig_id']\n",
    "        sample_id = row['sample_id']\n",
    "        contigs_path = row['contigs_path']\n",
    "        f.write(f'seqkit grep -r -p \"{contig_id}\" {contigs_path} > {sample_id}-NDM-1.fa\\n')\n",
    "\n",
    "# Create mob_typer.sh file\n",
    "with open('mob_typer.sh', 'w') as f:\n",
    "    f.write('#!/bin/bash\\n\\n')\n",
    "    for sample_id in contig_info_df['sample_id'].dropna().unique():\n",
    "        f.write(f'mob_typer --infile {sample_id}-NDM-1.fa --out_file {sample_id}-NDM-1_mobtyper.txt\\n')\n",
    "\n",
    "print(\"Files created successfully:\")\n",
    "print(\"1. NDM-1_abritamr_contig_info.tab\")\n",
    "print(\"2. seqkit_grep.sh\")\n",
    "print(\"3. mob_typer.sh\")"
   ]
  }
 ],
 "metadata": {
  "kernelspec": {
   "display_name": "bioinf_env",
   "language": "python",
   "name": "python3"
  },
  "language_info": {
   "codemirror_mode": {
    "name": "ipython",
    "version": 3
   },
   "file_extension": ".py",
   "mimetype": "text/x-python",
   "name": "python",
   "nbconvert_exporter": "python",
   "pygments_lexer": "ipython3",
   "version": "3.11.9"
  }
 },
 "nbformat": 4,
 "nbformat_minor": 2
}
